{
  "nbformat": 4,
  "nbformat_minor": 0,
  "metadata": {
    "colab": {
      "name": "Pipeline_FeatureScaling_PCA.ipynb",
      "provenance": []
    },
    "kernelspec": {
      "name": "python3",
      "display_name": "Python 3"
    },
    "language_info": {
      "name": "python"
    }
  },
  "cells": [
    {
      "cell_type": "markdown",
      "metadata": {
        "id": "-Gz_YT0J2Vpl"
      },
      "source": [
        "# **PipeLine**"
      ]
    },
    {
      "cell_type": "markdown",
      "metadata": {
        "id": "pn292LGO2pra"
      },
      "source": [
        "Compare the models LogisticRegression, DecisionTreeClassifier,RandomForestClassifier using Pipeline"
      ]
    },
    {
      "cell_type": "code",
      "metadata": {
        "id": "T5d70oeH2d4t"
      },
      "source": [
        "from sklearn.datasets import load_iris\n",
        "from sklearn.model_selection import train_test_split\n",
        "from sklearn.preprocessing import StandardScaler\n",
        "from sklearn.decomposition import PCA\n",
        "from sklearn.pipeline import Pipeline\n",
        "from sklearn.linear_model import LogisticRegression\n",
        "from sklearn.tree import DecisionTreeClassifier\n",
        "from sklearn.ensemble import RandomForestClassifier"
      ],
      "execution_count": 1,
      "outputs": []
    },
    {
      "cell_type": "code",
      "metadata": {
        "id": "AOB6Iz2i3KWg"
      },
      "source": [
        "#load data\n",
        "iris_df=load_iris()\n",
        "#Train-Test split\n",
        "X_train,X_test,y_train,y_test=train_test_split(iris_df.data,iris_df.target,test_size=0.3,random_state=0)\n"
      ],
      "execution_count": 2,
      "outputs": []
    },
    {
      "cell_type": "code",
      "metadata": {
        "id": "_9p3pOOB3qJ4"
      },
      "source": [
        "## Pipelines Creation\n",
        "## 1. Data Preprocessing by using Standard Scaler\n",
        "## 2. Reduce Dimension using PCA\n",
        "## 3. Apply  Classifier\n",
        "pipeline_lr=Pipeline([('scalar1',StandardScaler()),\n",
        "                     ('pca1',PCA(n_components=2)),\n",
        "                     ('lr_classifier',LogisticRegression(random_state=0))]) # For LogisticRegression\n",
        "pipeline_dt=Pipeline([('scalar2',StandardScaler()),\n",
        "                     ('pca2',PCA(n_components=2)),\n",
        "                     ('dt_classifier',DecisionTreeClassifier())]) # For DecisionTreeClassifier\n",
        "pipeline_randomforest=Pipeline([('scalar3',StandardScaler()),\n",
        "                     ('pca3',PCA(n_components=2)),\n",
        "                     ('rf_classifier',RandomForestClassifier())])  # For RandomForestClassifier         "
      ],
      "execution_count": 3,
      "outputs": []
    },
    {
      "cell_type": "code",
      "metadata": {
        "id": "G0GyFQRf4ikf"
      },
      "source": [
        "## Make the list of pipelines created above\n",
        "pipelines = [pipeline_lr, pipeline_dt, pipeline_randomforest]\n",
        "# Fit the pipelines\n",
        "for pipe in pipelines:\n",
        "\tpipe.fit(X_train, y_train)"
      ],
      "execution_count": 4,
      "outputs": []
    },
    {
      "cell_type": "code",
      "metadata": {
        "colab": {
          "base_uri": "https://localhost:8080/"
        },
        "id": "fo-SaYUr4-Pk",
        "outputId": "a96dc640-3035-43c0-9e4f-4ead218a6476"
      },
      "source": [
        "#Score comparison of the different models\n",
        "\n",
        "\n",
        "# Dictionary of pipelines and classifier types for ease of reference\n",
        "pipe_dict = {0: 'Logistic Regression', 1: 'Decision Tree', 2: 'RandomForest'}\n",
        "for i,model in enumerate(pipelines):\n",
        "    print(\"{} Test Accuracy: {}\".format(pipe_dict[i],model.score(X_test,y_test)))"
      ],
      "execution_count": 5,
      "outputs": [
        {
          "output_type": "stream",
          "text": [
            "Logistic Regression Test Accuracy: 0.8666666666666667\n",
            "Decision Tree Test Accuracy: 0.9111111111111111\n",
            "RandomForest Test Accuracy: 0.9111111111111111\n"
          ],
          "name": "stdout"
        }
      ]
    },
    {
      "cell_type": "markdown",
      "metadata": {
        "id": "NAZbJzsh8DZ6"
      },
      "source": [
        "# **Pipeline & GridSearchCV** "
      ]
    },
    {
      "cell_type": "code",
      "metadata": {
        "id": "H7VJ-xMN8U5u"
      },
      "source": [
        "from sklearn.pipeline import make_pipeline\n",
        "# Create a pipeline\n",
        "pipe = make_pipeline((RandomForestClassifier()))"
      ],
      "execution_count": 6,
      "outputs": []
    },
    {
      "cell_type": "code",
      "metadata": {
        "id": "TgHZ6ov59SgI"
      },
      "source": [
        "from sklearn.model_selection import GridSearchCV\n",
        "# Create dictionary with model and their hyperparameters\n",
        "grid_param = [\n",
        "                {\"randomforestclassifier\": [RandomForestClassifier()],\n",
        "                 \"randomforestclassifier__n_estimators\": [10, 50, 100],\n",
        "                 \"randomforestclassifier__max_depth\":[5,8,15,25,30,None],\n",
        "                 \"randomforestclassifier__min_samples_leaf\":[1,2,5,10,15,30],\n",
        "                 \"randomforestclassifier__max_leaf_nodes\": [2, 5,10]}]\n",
        "# create a gridsearch of the pipeline, the fit the best model\n",
        "gridsearch = GridSearchCV(pipe, grid_param, cv=5, verbose=0,n_jobs=-1) # Fit grid search\n",
        "model = gridsearch.fit(X_train,y_train)"
      ],
      "execution_count": 7,
      "outputs": []
    },
    {
      "cell_type": "code",
      "metadata": {
        "colab": {
          "base_uri": "https://localhost:8080/"
        },
        "id": "0egk1olnEm95",
        "outputId": "6ab96114-da9b-4f62-e2bf-fa0ec69d00bd"
      },
      "source": [
        "#Best Parameters\n",
        "model.best_params_"
      ],
      "execution_count": 8,
      "outputs": [
        {
          "output_type": "execute_result",
          "data": {
            "text/plain": [
              "{'randomforestclassifier': RandomForestClassifier(bootstrap=True, ccp_alpha=0.0, class_weight=None,\n",
              "                        criterion='gini', max_depth=5, max_features='auto',\n",
              "                        max_leaf_nodes=10, max_samples=None,\n",
              "                        min_impurity_decrease=0.0, min_impurity_split=None,\n",
              "                        min_samples_leaf=10, min_samples_split=2,\n",
              "                        min_weight_fraction_leaf=0.0, n_estimators=50,\n",
              "                        n_jobs=None, oob_score=False, random_state=None,\n",
              "                        verbose=0, warm_start=False),\n",
              " 'randomforestclassifier__max_depth': 5,\n",
              " 'randomforestclassifier__max_leaf_nodes': 10,\n",
              " 'randomforestclassifier__min_samples_leaf': 10,\n",
              " 'randomforestclassifier__n_estimators': 50}"
            ]
          },
          "metadata": {
            "tags": []
          },
          "execution_count": 8
        }
      ]
    },
    {
      "cell_type": "code",
      "metadata": {
        "colab": {
          "base_uri": "https://localhost:8080/"
        },
        "id": "uehUG96AFYTu",
        "outputId": "76e5eff7-3a7d-438d-afbf-269360a071be"
      },
      "source": [
        "# Best score\n",
        "model.best_score_"
      ],
      "execution_count": 9,
      "outputs": [
        {
          "output_type": "execute_result",
          "data": {
            "text/plain": [
              "0.9619047619047618"
            ]
          },
          "metadata": {
            "tags": []
          },
          "execution_count": 9
        }
      ]
    }
  ]
}